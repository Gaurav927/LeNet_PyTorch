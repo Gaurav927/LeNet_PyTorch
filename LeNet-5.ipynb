{
 "cells": [
  {
   "cell_type": "code",
   "execution_count": 5,
   "metadata": {},
   "outputs": [],
   "source": [
    "%matplotlib inline\n",
    "import torch\n",
    "from torch.autograd import Variable\n",
    "import torch.nn as nn\n",
    "import torch.nn.functional as F\n",
    "import torch.optim as optim\n",
    "from torchvision import datasets, transforms\n",
    "import torchvision\n",
    "import matplotlib.pyplot as plt\n",
    "import numpy as np\n",
    "import warnings\n",
    "warnings.filterwarnings(action='ignore')"
   ]
  },
  {
   "cell_type": "code",
   "execution_count": 2,
   "metadata": {},
   "outputs": [],
   "source": [
    "batch_size =64\n",
    "train_dataset = datasets.FashionMNIST(root='./FashionMNIST/',\n",
    "                               train=True,\n",
    "                               transform=transforms.ToTensor())\n",
    "\n",
    "test_dataset = datasets.FashionMNIST(root='./FashionMNIST/',\n",
    "                              train=False,\n",
    "                              transform=transforms.ToTensor())\n",
    "\n",
    "# Data Loader (Input Pipeline)\n",
    "train_loader = torch.utils.data.DataLoader(dataset=train_dataset,\n",
    "                                           batch_size=batch_size,\n",
    "                                           shuffle=True)\n",
    "\n",
    "test_loader = torch.utils.data.DataLoader(dataset=test_dataset,\n",
    "                                          batch_size=batch_size,\n",
    "                                          shuffle=False)"
   ]
  },
  {
   "cell_type": "code",
   "execution_count": 3,
   "metadata": {},
   "outputs": [],
   "source": [
    "# Function to show an image\n",
    "def imshow(img):\n",
    "    npimg = img.numpy()\n",
    "    plt.imshow(np.transpose(npimg, (1,2,0)), interpolation='nearest')\n",
    "    plt.axis('off')\n",
    "    plt.show()\n",
    "classes = ('T-shirt/top', 'Trouser','Pullover','Dress', 'Coat','Sandal', 'Shirt', 'Sneaker', 'Bag', 'Ankle-boot')"
   ]
  },
  {
   "cell_type": "code",
   "execution_count": 6,
   "metadata": {},
   "outputs": [
    {
     "name": "stdout",
     "output_type": "stream",
     "text": [
      "torch.Size([64, 1, 28, 28])\n",
      "torch.Size([64])\n"
     ]
    },
    {
     "data": {
      "image/png": "[encoded data removed]",
      "text/plain": [
       "<Figure size 432x288 with 1 Axes>"
      ]
     },
     "metadata": {
      "needs_background": "light"
     },
     "output_type": "display_data"
    },
    {
     "name": "stdout",
     "output_type": "stream",
     "text": [
      "Sneaker Pullover Dress Sandal\n"
     ]
    }
   ],
   "source": [
    "# get some random training images\n",
    "dataiter = iter(train_loader)\n",
    "images, labels = dataiter.next()\n",
    "print(images.shape)\n",
    "print(labels.shape)\n",
    "\n",
    "# show images\n",
    "imshow(torchvision.utils.make_grid(images[:4],nrow=4))\n",
    "# print labels\n",
    "print(' '.join('%5s' % classes[labels[j]] for j in range(4)))"
   ]
  },
  {
   "cell_type": "code",
   "execution_count": 14,
   "metadata": {},
   "outputs": [],
   "source": [
    "#In original paper input size is 32x32 , but we have taken input size as 28x28\n",
    "\n",
    "class LeNet(nn.Module):\n",
    "    def __init__(self):\n",
    "        super(LeNet,self).__init__()\n",
    "        self.conv1 = nn.Conv2d(1,6,kernel_size=5)\n",
    "        self.conv2 = nn.Conv2d(6,16,kernel_size=3)        \n",
    "        self.pooling = nn.MaxPool2d(kernel_size=2,stride=2)  # original paper there is average pooling\n",
    "        self.l1 = nn.Linear(400,120)\n",
    "        self.l2 = nn.Linear(120,10)\n",
    "        \n",
    "        \n",
    "    def forward(self,x):\n",
    "        \n",
    "        x = self.pooling(self.conv1(x))\n",
    "        x = self.pooling(self.conv2(x))\n",
    "        \n",
    "        x = x.view(x.size(0),-1)\n",
    "        x = self.l1(x)\n",
    "        \n",
    "        x = self.l2(x)\n",
    "        \n",
    "        return F.log_softmax(x)"
   ]
  },
  {
   "cell_type": "code",
   "execution_count": 11,
   "metadata": {},
   "outputs": [],
   "source": [
    "model = LeNet()\n",
    "criterion = nn.NLLLoss()\n",
    "optimizer = optim.SGD(model.parameters(), lr=0.01, momentum=0.5)"
   ]
  },
  {
   "cell_type": "code",
   "execution_count": 12,
   "metadata": {},
   "outputs": [
    {
     "name": "stdout",
     "output_type": "stream",
     "text": [
      "Train Epoch: 0 [0/60000 (0%)]\tLoss: 2.308614\n",
      "Train Epoch: 0 [6400/60000 (11%)]\tLoss: 1.472702\n",
      "Train Epoch: 0 [12800/60000 (21%)]\tLoss: 0.875373\n",
      "Train Epoch: 0 [19200/60000 (32%)]\tLoss: 0.610421\n",
      "Train Epoch: 0 [25600/60000 (43%)]\tLoss: 0.771768\n",
      "Train Epoch: 0 [32000/60000 (53%)]\tLoss: 0.679674\n",
      "Train Epoch: 0 [38400/60000 (64%)]\tLoss: 0.671654\n",
      "Train Epoch: 0 [44800/60000 (75%)]\tLoss: 0.681265\n",
      "Train Epoch: 0 [51200/60000 (85%)]\tLoss: 0.744454\n",
      "Train Epoch: 0 [57600/60000 (96%)]\tLoss: 0.545676\n",
      "Train Epoch: 1 [0/60000 (0%)]\tLoss: 0.697384\n",
      "Train Epoch: 1 [6400/60000 (11%)]\tLoss: 0.613489\n",
      "Train Epoch: 1 [12800/60000 (21%)]\tLoss: 0.538601\n",
      "Train Epoch: 1 [19200/60000 (32%)]\tLoss: 0.657365\n",
      "Train Epoch: 1 [25600/60000 (43%)]\tLoss: 0.743274\n",
      "Train Epoch: 1 [32000/60000 (53%)]\tLoss: 0.539485\n",
      "Train Epoch: 1 [38400/60000 (64%)]\tLoss: 0.443585\n",
      "Train Epoch: 1 [44800/60000 (75%)]\tLoss: 0.525225\n",
      "Train Epoch: 1 [51200/60000 (85%)]\tLoss: 0.459159\n",
      "Train Epoch: 1 [57600/60000 (96%)]\tLoss: 0.539044\n",
      "Train Epoch: 2 [0/60000 (0%)]\tLoss: 0.529060\n",
      "Train Epoch: 2 [6400/60000 (11%)]\tLoss: 0.317664\n",
      "Train Epoch: 2 [12800/60000 (21%)]\tLoss: 0.427692\n",
      "Train Epoch: 2 [19200/60000 (32%)]\tLoss: 0.539558\n",
      "Train Epoch: 2 [25600/60000 (43%)]\tLoss: 0.358731\n",
      "Train Epoch: 2 [32000/60000 (53%)]\tLoss: 0.535056\n",
      "Train Epoch: 2 [38400/60000 (64%)]\tLoss: 0.524498\n",
      "Train Epoch: 2 [44800/60000 (75%)]\tLoss: 0.659880\n",
      "Train Epoch: 2 [51200/60000 (85%)]\tLoss: 0.698175\n",
      "Train Epoch: 2 [57600/60000 (96%)]\tLoss: 0.437423\n",
      "Train Epoch: 3 [0/60000 (0%)]\tLoss: 0.332522\n",
      "Train Epoch: 3 [6400/60000 (11%)]\tLoss: 0.530890\n",
      "Train Epoch: 3 [12800/60000 (21%)]\tLoss: 0.595506\n",
      "Train Epoch: 3 [19200/60000 (32%)]\tLoss: 0.280584\n",
      "Train Epoch: 3 [25600/60000 (43%)]\tLoss: 0.527730\n",
      "Train Epoch: 3 [32000/60000 (53%)]\tLoss: 0.453463\n",
      "Train Epoch: 3 [38400/60000 (64%)]\tLoss: 0.353964\n",
      "Train Epoch: 3 [44800/60000 (75%)]\tLoss: 0.432003\n",
      "Train Epoch: 3 [51200/60000 (85%)]\tLoss: 0.376200\n",
      "Train Epoch: 3 [57600/60000 (96%)]\tLoss: 0.406140\n",
      "Train Epoch: 4 [0/60000 (0%)]\tLoss: 0.519719\n",
      "Train Epoch: 4 [6400/60000 (11%)]\tLoss: 0.432112\n",
      "Train Epoch: 4 [12800/60000 (21%)]\tLoss: 0.553604\n",
      "Train Epoch: 4 [19200/60000 (32%)]\tLoss: 0.372644\n",
      "Train Epoch: 4 [25600/60000 (43%)]\tLoss: 0.234568\n",
      "Train Epoch: 4 [32000/60000 (53%)]\tLoss: 0.440488\n",
      "Train Epoch: 4 [38400/60000 (64%)]\tLoss: 0.407580\n",
      "Train Epoch: 4 [44800/60000 (75%)]\tLoss: 0.402265\n",
      "Train Epoch: 4 [51200/60000 (85%)]\tLoss: 0.358386\n",
      "Train Epoch: 4 [57600/60000 (96%)]\tLoss: 0.482765\n",
      "Train Epoch: 5 [0/60000 (0%)]\tLoss: 0.396242\n",
      "Train Epoch: 5 [6400/60000 (11%)]\tLoss: 0.394137\n",
      "Train Epoch: 5 [12800/60000 (21%)]\tLoss: 0.330992\n",
      "Train Epoch: 5 [19200/60000 (32%)]\tLoss: 0.507612\n",
      "Train Epoch: 5 [25600/60000 (43%)]\tLoss: 0.292584\n",
      "Train Epoch: 5 [32000/60000 (53%)]\tLoss: 0.328308\n",
      "Train Epoch: 5 [38400/60000 (64%)]\tLoss: 0.282278\n",
      "Train Epoch: 5 [44800/60000 (75%)]\tLoss: 0.378177\n",
      "Train Epoch: 5 [51200/60000 (85%)]\tLoss: 0.394815\n",
      "Train Epoch: 5 [57600/60000 (96%)]\tLoss: 0.386954\n",
      "Train Epoch: 6 [0/60000 (0%)]\tLoss: 0.625236\n",
      "Train Epoch: 6 [6400/60000 (11%)]\tLoss: 0.328920\n",
      "Train Epoch: 6 [12800/60000 (21%)]\tLoss: 0.175121\n",
      "Train Epoch: 6 [19200/60000 (32%)]\tLoss: 0.322020\n",
      "Train Epoch: 6 [25600/60000 (43%)]\tLoss: 0.534297\n",
      "Train Epoch: 6 [32000/60000 (53%)]\tLoss: 0.262369\n",
      "Train Epoch: 6 [38400/60000 (64%)]\tLoss: 0.274045\n",
      "Train Epoch: 6 [44800/60000 (75%)]\tLoss: 0.439016\n",
      "Train Epoch: 6 [51200/60000 (85%)]\tLoss: 0.302697\n",
      "Train Epoch: 6 [57600/60000 (96%)]\tLoss: 0.344746\n",
      "Train Epoch: 7 [0/60000 (0%)]\tLoss: 0.298623\n",
      "Train Epoch: 7 [6400/60000 (11%)]\tLoss: 0.270706\n",
      "Train Epoch: 7 [12800/60000 (21%)]\tLoss: 0.281644\n",
      "Train Epoch: 7 [19200/60000 (32%)]\tLoss: 0.394161\n",
      "Train Epoch: 7 [25600/60000 (43%)]\tLoss: 0.434634\n",
      "Train Epoch: 7 [32000/60000 (53%)]\tLoss: 0.238476\n",
      "Train Epoch: 7 [38400/60000 (64%)]\tLoss: 0.281561\n",
      "Train Epoch: 7 [44800/60000 (75%)]\tLoss: 0.616481\n",
      "Train Epoch: 7 [51200/60000 (85%)]\tLoss: 0.522570\n",
      "Train Epoch: 7 [57600/60000 (96%)]\tLoss: 0.280184\n",
      "Train Epoch: 8 [0/60000 (0%)]\tLoss: 0.420810\n",
      "Train Epoch: 8 [6400/60000 (11%)]\tLoss: 0.455410\n",
      "Train Epoch: 8 [12800/60000 (21%)]\tLoss: 0.194618\n",
      "Train Epoch: 8 [19200/60000 (32%)]\tLoss: 0.387167\n",
      "Train Epoch: 8 [25600/60000 (43%)]\tLoss: 0.323083\n",
      "Train Epoch: 8 [32000/60000 (53%)]\tLoss: 0.437056\n",
      "Train Epoch: 8 [38400/60000 (64%)]\tLoss: 0.480814\n",
      "Train Epoch: 8 [44800/60000 (75%)]\tLoss: 0.409851\n",
      "Train Epoch: 8 [51200/60000 (85%)]\tLoss: 0.427887\n",
      "Train Epoch: 8 [57600/60000 (96%)]\tLoss: 0.440194\n",
      "Train Epoch: 9 [0/60000 (0%)]\tLoss: 0.368624\n",
      "Train Epoch: 9 [6400/60000 (11%)]\tLoss: 0.435248\n",
      "Train Epoch: 9 [12800/60000 (21%)]\tLoss: 0.261169\n",
      "Train Epoch: 9 [19200/60000 (32%)]\tLoss: 0.335970\n",
      "Train Epoch: 9 [25600/60000 (43%)]\tLoss: 0.340176\n",
      "Train Epoch: 9 [32000/60000 (53%)]\tLoss: 0.246328\n",
      "Train Epoch: 9 [38400/60000 (64%)]\tLoss: 0.489809\n",
      "Train Epoch: 9 [44800/60000 (75%)]\tLoss: 0.406268\n",
      "Train Epoch: 9 [51200/60000 (85%)]\tLoss: 0.405049\n",
      "Train Epoch: 9 [57600/60000 (96%)]\tLoss: 0.339117\n"
     ]
    }
   ],
   "source": [
    "for epoch in range(10):\n",
    "    for i ,(data,target) in enumerate(train_loader):\n",
    "        data,target = Variable(data),Variable(target)\n",
    "        optimizer.zero_grad()\n",
    "        y_pred = model.forward(data)\n",
    "        loss = criterion(y_pred,target)\n",
    "        \n",
    "        loss.backward()\n",
    "        optimizer.step()\n",
    "        if i % 100 == 0:\n",
    "            print('Train Epoch: {} [{}/{} ({:.0f}%)]\\tLoss: {:.6f}'.format(\n",
    "                epoch, i * len(data), len(train_loader.dataset),\n",
    "                100. * i / len(train_loader), loss.item()))"
   ]
  },
  {
   "cell_type": "code",
   "execution_count": 13,
   "metadata": {},
   "outputs": [
    {
     "name": "stdout",
     "output_type": "stream",
     "text": [
      "\n",
      "Test set: Average loss: 0.0061, Accuracy: 8626/10000 (86%)\n",
      "\n"
     ]
    }
   ],
   "source": [
    "test_loss = 0\n",
    "correct = 0\n",
    "for data, target in test_loader:\n",
    "    data, target = Variable(data), Variable(target)\n",
    "    output = model.forward(data)\n",
    "    # sum up batch loss\n",
    "    test_loss += criterion(output, target).item()\n",
    "    # get the index of the max\n",
    "    pred = output.data.max(dim=1,keepdim=True)[1]\n",
    "    \n",
    "    correct += pred.eq(target.data.view_as(pred)).cpu().sum()\n",
    "\n",
    "test_loss /= len(test_loader.dataset)\n",
    "print('\\nTest set: Average loss: {:.4f}, Accuracy: {}/{} ({:.0f}%)\\n'.format(\n",
    "    test_loss, correct, len(test_loader.dataset),\n",
    "    100. * correct / len(test_loader.dataset)))"
   ]
  },
  {
   "cell_type": "code",
   "execution_count": null,
   "metadata": {},
   "outputs": [],
   "source": []
  }
 ],
 "metadata": {
  "kernelspec": {
   "display_name": "Python 3",
   "language": "python",
   "name": "python3"
  },
  "language_info": {
   "codemirror_mode": {
    "name": "ipython",
    "version": 3
   },
   "file_extension": ".py",
   "mimetype": "text/x-python",
   "name": "python",
   "nbconvert_exporter": "python",
   "pygments_lexer": "ipython3",
   "version": "3.6.8"
  }
 },
 "nbformat": 4,
 "nbformat_minor": 2
}
