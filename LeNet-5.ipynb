{
 "cells": [
  {
   "cell_type": "code",
   "execution_count": 1,
   "metadata": {},
   "outputs": [],
   "source": [
    "%matplotlib inline\n",
    "import torch\n",
    "from torch.autograd import Variable\n",
    "import torch.nn as nn\n",
    "import torch.nn.functional as F\n",
    "import torch.optim as optim\n",
    "from torchvision import datasets, transforms\n",
    "import torchvision\n",
    "import matplotlib.pyplot as plt\n",
    "import numpy as np\n",
    "import warnings\n",
    "warnings.filterwarnings(action='ignore')"
   ]
  },
  {
   "cell_type": "code",
   "execution_count": 2,
   "metadata": {},
   "outputs": [],
   "source": [
    "batch_size =64\n",
    "train_dataset = datasets.FashionMNIST(root='./FashionMNIST/',\n",
    "                               train=True,\n",
    "                               transform=transforms.ToTensor())\n",
    "\n",
    "test_dataset = datasets.FashionMNIST(root='./FashionMNIST/',\n",
    "                              train=False,\n",
    "                              transform=transforms.ToTensor())\n",
    "\n",
    "# Data Loader (Input Pipeline)\n",
    "train_loader = torch.utils.data.DataLoader(dataset=train_dataset,\n",
    "                                           batch_size=batch_size,\n",
    "                                           shuffle=True)\n",
    "\n",
    "test_loader = torch.utils.data.DataLoader(dataset=test_dataset,\n",
    "                                          batch_size=batch_size,\n",
    "                                          shuffle=False)"
   ]
  },
  {
   "cell_type": "code",
   "execution_count": 3,
   "metadata": {},
   "outputs": [],
   "source": [
    "# Function to show an image\n",
    "def imshow(img):\n",
    "    npimg = img.numpy()\n",
    "    plt.imshow(np.transpose(npimg, (1,2,0)), interpolation='nearest')\n",
    "    plt.axis('off')\n",
    "    plt.show()\n",
    "classes = ('T-shirt/top', 'Trouser','Pullover','Dress', 'Coat','Sandal', 'Shirt', 'Sneaker', 'Bag', 'Ankle-boot')"
   ]
  },
  {
   "cell_type": "code",
   "execution_count": 4,
   "metadata": {},
   "outputs": [
    {
     "name": "stdout",
     "output_type": "stream",
     "text": [
      "torch.Size([64, 1, 28, 28])\n",
      "torch.Size([64])\n"
     ]
    },
    {
     "data": {
      "image/png": "[encoded data removed]",
      "text/plain": [
       "<Figure size 432x288 with 1 Axes>"
      ]
     },
     "metadata": {
      "needs_background": "light"
     },
     "output_type": "display_data"
    },
    {
     "name": "stdout",
     "output_type": "stream",
     "text": [
      "Dress Dress Pullover  Coat\n"
     ]
    }
   ],
   "source": [
    "# get some random training images\n",
    "dataiter = iter(train_loader)\n",
    "images, labels = dataiter.next()\n",
    "print(images.shape)\n",
    "print(labels.shape)\n",
    "\n",
    "# show images\n",
    "imshow(torchvision.utils.make_grid(images[:4],nrow=4))\n",
    "# print labels\n",
    "print(' '.join('%5s' % classes[labels[j]] for j in range(4)))"
   ]
  },
  {
   "cell_type": "code",
   "execution_count": 8,
   "metadata": {},
   "outputs": [],
   "source": [
    "#In original paper input size is 32x32 , but we have taken input size as 28x28\n",
    "\n",
    "class LeNet(nn.Module):\n",
    "    def __init__(self):\n",
    "        super(LeNet,self).__init__()\n",
    "        self.conv1 = nn.Conv2d(1,6,kernel_size=5)\n",
    "        self.conv2 = nn.Conv2d(6,16,kernel_size=3)        \n",
    "        self.pooling = nn.MaxPool2d(kernel_size=2,stride=2)  # original paper there is average pooling\n",
    "        self.l1 = nn.Linear(400,120)\n",
    "        self.l2 = nn.Linear(120,10)      # In original paper last layer conatins 120x84 then \n",
    "                                         # implemented some Gaussian \n",
    "        \n",
    "        \n",
    "    def forward(self,x):\n",
    "        \n",
    "        x = F.relu(self.pooling(self.conv1(x)))    # Original paper contains Sigmoid as activation function\n",
    "        x = F.relu(self.pooling(self.conv2(x)))\n",
    "        \n",
    "        x = x.view(x.size(0),-1)\n",
    "        x = self.l1(x)\n",
    "        \n",
    "        x = self.l2(x)\n",
    "        \n",
    "        return F.log_softmax(x) # In original paper last layer was Gaussian, Here we have used Softmax"
   ]
  },
  {
   "cell_type": "code",
   "execution_count": 9,
   "metadata": {},
   "outputs": [],
   "source": [
    "model = LeNet()\n",
    "criterion = nn.NLLLoss()\n",
    "optimizer = optim.SGD(model.parameters(), lr=0.01, momentum=0.5)"
   ]
  },
  {
   "cell_type": "code",
   "execution_count": 10,
   "metadata": {},
   "outputs": [
    {
     "name": "stdout",
     "output_type": "stream",
     "text": [
      "Train Epoch: 0 [0/60000 (0%)]\tLoss: 2.306845\n",
      "Train Epoch: 0 [6400/60000 (11%)]\tLoss: 2.232642\n",
      "Train Epoch: 0 [12800/60000 (21%)]\tLoss: 1.161507\n",
      "Train Epoch: 0 [19200/60000 (32%)]\tLoss: 1.276464\n",
      "Train Epoch: 0 [25600/60000 (43%)]\tLoss: 0.925961\n",
      "Train Epoch: 0 [32000/60000 (53%)]\tLoss: 0.690422\n",
      "Train Epoch: 0 [38400/60000 (64%)]\tLoss: 0.623943\n",
      "Train Epoch: 0 [44800/60000 (75%)]\tLoss: 0.876970\n",
      "Train Epoch: 0 [51200/60000 (85%)]\tLoss: 0.873818\n",
      "Train Epoch: 0 [57600/60000 (96%)]\tLoss: 0.629184\n",
      "Train Epoch: 1 [0/60000 (0%)]\tLoss: 0.696009\n",
      "Train Epoch: 1 [6400/60000 (11%)]\tLoss: 0.762789\n",
      "Train Epoch: 1 [12800/60000 (21%)]\tLoss: 0.596089\n",
      "Train Epoch: 1 [19200/60000 (32%)]\tLoss: 0.617514\n",
      "Train Epoch: 1 [25600/60000 (43%)]\tLoss: 0.675308\n",
      "Train Epoch: 1 [32000/60000 (53%)]\tLoss: 0.566949\n",
      "Train Epoch: 1 [38400/60000 (64%)]\tLoss: 0.638600\n",
      "Train Epoch: 1 [44800/60000 (75%)]\tLoss: 0.414413\n",
      "Train Epoch: 1 [51200/60000 (85%)]\tLoss: 0.492956\n",
      "Train Epoch: 1 [57600/60000 (96%)]\tLoss: 0.525476\n",
      "Train Epoch: 2 [0/60000 (0%)]\tLoss: 0.453688\n",
      "Train Epoch: 2 [6400/60000 (11%)]\tLoss: 0.627776\n",
      "Train Epoch: 2 [12800/60000 (21%)]\tLoss: 0.797107\n",
      "Train Epoch: 2 [19200/60000 (32%)]\tLoss: 0.724863\n",
      "Train Epoch: 2 [25600/60000 (43%)]\tLoss: 0.550358\n",
      "Train Epoch: 2 [32000/60000 (53%)]\tLoss: 0.563904\n",
      "Train Epoch: 2 [38400/60000 (64%)]\tLoss: 0.665305\n",
      "Train Epoch: 2 [44800/60000 (75%)]\tLoss: 0.757124\n",
      "Train Epoch: 2 [51200/60000 (85%)]\tLoss: 0.548110\n",
      "Train Epoch: 2 [57600/60000 (96%)]\tLoss: 0.582292\n",
      "Train Epoch: 3 [0/60000 (0%)]\tLoss: 0.617079\n",
      "Train Epoch: 3 [6400/60000 (11%)]\tLoss: 0.500046\n",
      "Train Epoch: 3 [12800/60000 (21%)]\tLoss: 0.454103\n",
      "Train Epoch: 3 [19200/60000 (32%)]\tLoss: 0.593310\n",
      "Train Epoch: 3 [25600/60000 (43%)]\tLoss: 0.539224\n",
      "Train Epoch: 3 [32000/60000 (53%)]\tLoss: 0.575267\n",
      "Train Epoch: 3 [38400/60000 (64%)]\tLoss: 0.269067\n",
      "Train Epoch: 3 [44800/60000 (75%)]\tLoss: 0.485597\n",
      "Train Epoch: 3 [51200/60000 (85%)]\tLoss: 0.451210\n",
      "Train Epoch: 3 [57600/60000 (96%)]\tLoss: 0.439340\n",
      "Train Epoch: 4 [0/60000 (0%)]\tLoss: 0.334836\n",
      "Train Epoch: 4 [6400/60000 (11%)]\tLoss: 0.635644\n",
      "Train Epoch: 4 [12800/60000 (21%)]\tLoss: 0.399656\n",
      "Train Epoch: 4 [19200/60000 (32%)]\tLoss: 0.466825\n",
      "Train Epoch: 4 [25600/60000 (43%)]\tLoss: 0.433148\n",
      "Train Epoch: 4 [32000/60000 (53%)]\tLoss: 0.646714\n",
      "Train Epoch: 4 [38400/60000 (64%)]\tLoss: 0.290791\n",
      "Train Epoch: 4 [44800/60000 (75%)]\tLoss: 0.457108\n",
      "Train Epoch: 4 [51200/60000 (85%)]\tLoss: 0.487424\n",
      "Train Epoch: 4 [57600/60000 (96%)]\tLoss: 0.551920\n",
      "Train Epoch: 5 [0/60000 (0%)]\tLoss: 0.413273\n",
      "Train Epoch: 5 [6400/60000 (11%)]\tLoss: 0.378235\n",
      "Train Epoch: 5 [12800/60000 (21%)]\tLoss: 0.531225\n",
      "Train Epoch: 5 [19200/60000 (32%)]\tLoss: 0.637861\n",
      "Train Epoch: 5 [25600/60000 (43%)]\tLoss: 0.324471\n",
      "Train Epoch: 5 [32000/60000 (53%)]\tLoss: 0.373428\n",
      "Train Epoch: 5 [38400/60000 (64%)]\tLoss: 0.459395\n",
      "Train Epoch: 5 [44800/60000 (75%)]\tLoss: 0.447870\n",
      "Train Epoch: 5 [51200/60000 (85%)]\tLoss: 0.511584\n",
      "Train Epoch: 5 [57600/60000 (96%)]\tLoss: 0.408987\n",
      "Train Epoch: 6 [0/60000 (0%)]\tLoss: 0.523218\n",
      "Train Epoch: 6 [6400/60000 (11%)]\tLoss: 0.518940\n",
      "Train Epoch: 6 [12800/60000 (21%)]\tLoss: 0.418867\n",
      "Train Epoch: 6 [19200/60000 (32%)]\tLoss: 0.525191\n",
      "Train Epoch: 6 [25600/60000 (43%)]\tLoss: 0.249069\n",
      "Train Epoch: 6 [32000/60000 (53%)]\tLoss: 0.358450\n",
      "Train Epoch: 6 [38400/60000 (64%)]\tLoss: 0.312237\n",
      "Train Epoch: 6 [44800/60000 (75%)]\tLoss: 0.420008\n",
      "Train Epoch: 6 [51200/60000 (85%)]\tLoss: 0.733843\n",
      "Train Epoch: 6 [57600/60000 (96%)]\tLoss: 0.304906\n",
      "Train Epoch: 7 [0/60000 (0%)]\tLoss: 0.381438\n",
      "Train Epoch: 7 [6400/60000 (11%)]\tLoss: 0.418977\n",
      "Train Epoch: 7 [12800/60000 (21%)]\tLoss: 0.537075\n",
      "Train Epoch: 7 [19200/60000 (32%)]\tLoss: 0.324270\n",
      "Train Epoch: 7 [25600/60000 (43%)]\tLoss: 0.349483\n",
      "Train Epoch: 7 [32000/60000 (53%)]\tLoss: 0.295521\n",
      "Train Epoch: 7 [38400/60000 (64%)]\tLoss: 0.451712\n",
      "Train Epoch: 7 [44800/60000 (75%)]\tLoss: 0.240886\n",
      "Train Epoch: 7 [51200/60000 (85%)]\tLoss: 0.296795\n",
      "Train Epoch: 7 [57600/60000 (96%)]\tLoss: 0.387368\n",
      "Train Epoch: 8 [0/60000 (0%)]\tLoss: 0.218760\n",
      "Train Epoch: 8 [6400/60000 (11%)]\tLoss: 0.476963\n",
      "Train Epoch: 8 [12800/60000 (21%)]\tLoss: 0.371095\n",
      "Train Epoch: 8 [19200/60000 (32%)]\tLoss: 0.351964\n",
      "Train Epoch: 8 [25600/60000 (43%)]\tLoss: 0.439137\n",
      "Train Epoch: 8 [32000/60000 (53%)]\tLoss: 0.301667\n",
      "Train Epoch: 8 [38400/60000 (64%)]\tLoss: 0.441458\n",
      "Train Epoch: 8 [44800/60000 (75%)]\tLoss: 0.488511\n",
      "Train Epoch: 8 [51200/60000 (85%)]\tLoss: 0.380056\n",
      "Train Epoch: 8 [57600/60000 (96%)]\tLoss: 0.307243\n",
      "Train Epoch: 9 [0/60000 (0%)]\tLoss: 0.882478\n",
      "Train Epoch: 9 [6400/60000 (11%)]\tLoss: 0.360992\n",
      "Train Epoch: 9 [12800/60000 (21%)]\tLoss: 0.287544\n",
      "Train Epoch: 9 [19200/60000 (32%)]\tLoss: 0.274510\n",
      "Train Epoch: 9 [25600/60000 (43%)]\tLoss: 0.426950\n",
      "Train Epoch: 9 [32000/60000 (53%)]\tLoss: 0.372231\n",
      "Train Epoch: 9 [38400/60000 (64%)]\tLoss: 0.501891\n",
      "Train Epoch: 9 [44800/60000 (75%)]\tLoss: 0.312575\n",
      "Train Epoch: 9 [51200/60000 (85%)]\tLoss: 0.222989\n",
      "Train Epoch: 9 [57600/60000 (96%)]\tLoss: 0.538094\n"
     ]
    }
   ],
   "source": [
    "for epoch in range(10):\n",
    "    for i ,(data,target) in enumerate(train_loader):\n",
    "        data,target = Variable(data),Variable(target)\n",
    "        optimizer.zero_grad()\n",
    "        y_pred = model.forward(data)\n",
    "        loss = criterion(y_pred,target)\n",
    "        \n",
    "        loss.backward()\n",
    "        optimizer.step()\n",
    "        if i % 100 == 0:\n",
    "            print('Train Epoch: {} [{}/{} ({:.0f}%)]\\tLoss: {:.6f}'.format(\n",
    "                epoch, i * len(data), len(train_loader.dataset),\n",
    "                100. * i / len(train_loader), loss.item()))"
   ]
  },
  {
   "cell_type": "code",
   "execution_count": 11,
   "metadata": {},
   "outputs": [
    {
     "name": "stdout",
     "output_type": "stream",
     "text": [
      "\n",
      "Test set: Average loss: 0.0064, Accuracy: 8562/10000 (85%)\n",
      "\n"
     ]
    }
   ],
   "source": [
    "test_loss = 0\n",
    "correct = 0\n",
    "for data, target in test_loader:\n",
    "    data, target = Variable(data), Variable(target)\n",
    "    output = model.forward(data)\n",
    "    # sum up batch loss\n",
    "    test_loss += criterion(output, target).item()\n",
    "    # get the index of the max\n",
    "    pred = output.data.max(dim=1,keepdim=True)[1]\n",
    "    \n",
    "    correct += pred.eq(target.data.view_as(pred)).cpu().sum()\n",
    "\n",
    "test_loss /= len(test_loader.dataset)\n",
    "print('\\nTest set: Average loss: {:.4f}, Accuracy: {}/{} ({:.0f}%)\\n'.format(\n",
    "    test_loss, correct, len(test_loader.dataset),\n",
    "    100. * correct / len(test_loader.dataset)))"
   ]
  },
  {
   "cell_type": "code",
   "execution_count": null,
   "metadata": {},
   "outputs": [],
   "source": []
  }
 ],
 "metadata": {
  "kernelspec": {
   "display_name": "Python 3",
   "language": "python",
   "name": "python3"
  },
  "language_info": {
   "codemirror_mode": {
    "name": "ipython",
    "version": 3
   },
   "file_extension": ".py",
   "mimetype": "text/x-python",
   "name": "python",
   "nbconvert_exporter": "python",
   "pygments_lexer": "ipython3",
   "version": "3.6.8"
  }
 },
 "nbformat": 4,
 "nbformat_minor": 2
}
